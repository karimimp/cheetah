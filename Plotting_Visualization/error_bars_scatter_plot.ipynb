{
 "cells": [
  {
   "cell_type": "code",
   "execution_count": 1,
   "metadata": {},
   "outputs": [],
   "source": [
    "import numpy as np\n",
    "import matplotlib.pyplot as plt\n",
    "# Update the matplotlib configuration parameters:\n",
    "#plt.rcParams.update({'font.size': 14, 'font.family': 'serif'})\n",
    "# LaTeX\n",
    "plt.rcParams.update({'font.size': 14, 'text.usetex': True})"
   ]
  },
  {
   "cell_type": "code",
   "execution_count": 2,
   "metadata": {},
   "outputs": [],
   "source": [
    "marks = ['o', \"v\", \"^\", \"<\", \">\", \"8\", \"s\", \"p\", \"P\", \"*\", \"X\", \"H\"]\n",
    "ind = np.arange(1,13)\n",
    "all_colors = [\"tab:blue\", \"tab:orange\", \"tab:green\", \"navy\", \"darkviolet\", \"tab:pink\", \"forestgreen\", \"teal\", \"crimson\", \"olive\", \"springgreen\", \"deepskyblue\"]"
   ]
  },
  {
   "cell_type": "code",
   "execution_count": 6,
   "metadata": {},
   "outputs": [],
   "source": [
    "air_flow = np.array([200, 400])\n",
    "kla_exp = np.array([0.003678, 0.004253])\n",
    "std_exp = np.array([0.00071094, 0.0004539])"
   ]
  },
  {
   "cell_type": "code",
   "execution_count": 4,
   "metadata": {},
   "outputs": [],
   "source": [
    "kla_200 = np.array([0.014967, 0.00137329, 0.142585, 0.00339508, 0.00184246, 0.207549, 0.00481515, 0.00650845, 0.00472331, 0.00815372, 0.00676356, 0.00651023])\n",
    "kla_400 = np.array([0.023313, 0.0016631, 0.194941, 0.00528828, 0.0023209, 0.346545, 0.00676317, 0.0096702, 0.00661484, 0.011437, 0.00981923, 0.00967049])"
   ]
  },
  {
   "cell_type": "code",
   "execution_count": null,
   "metadata": {},
   "outputs": [],
   "source": [
    "fig1, ax = plt.subplots(figsize=(7,4), dpi=150)\n",
    "ax.errorbar(air_flow, kla_exp, yerr=std_exp, markersize=6, fmt='ko', ecolor='k', capsize=3, capthick=2, label='Experiments')\n",
    "\n",
    "for y, m, i, r in zip(kla_200, marks, ind, all_colors):\n",
    "    ax.scatter([200],[y], marker=m, c=r, label=\"F%i\"%i)\n",
    "\n",
    "for y, m, r in zip(kla_400, marks, all_colors):\n",
    "    ax.scatter([400],[y], marker=m, c=r)\n",
    "\n",
    "ax.grid(color='b', alpha=0.2, linestyle='dashed', linewidth=0.5)\n",
    "ax.set_xlabel(r'Air flow rate, $(\\frac{ml}{min})$')\n",
    "ax.set_ylabel(r'$k_l \\times a, (\\frac{m}{s}\\cdot m^2)$')\n",
    "ax.set_ylim([0.0005, 0.018])\n",
    "# ax.set_xlim([100, 450])\n",
    "ax.legend(frameon=False, ncol=3)\n",
    "fig1.tight_layout()"
   ]
  }
 ],
 "metadata": {
  "kernelspec": {
   "display_name": "Python 3",
   "language": "python",
   "name": "python3"
  },
  "language_info": {
   "codemirror_mode": {
    "name": "ipython",
    "version": 3
   },
   "file_extension": ".py",
   "mimetype": "text/x-python",
   "name": "python",
   "nbconvert_exporter": "python",
   "pygments_lexer": "ipython3",
   "version": "3.7.4"
  }
 },
 "nbformat": 4,
 "nbformat_minor": 4
}
