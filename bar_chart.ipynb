{
 "cells": [
  {
   "cell_type": "code",
   "execution_count": 10,
   "metadata": {},
   "outputs": [],
   "source": [
    "import numpy as np\n",
    "import matplotlib.pyplot as plt\n",
    "# Update the matplotlib configuration parameters:\n",
    "#plt.rcParams.update({'font.size': 14, 'font.family': 'serif'})\n",
    "# LaTeX\n",
    "plt.rcParams.update({'font.size': 14, 'text.usetex': True})"
   ]
  },
  {
   "cell_type": "code",
   "execution_count": 11,
   "metadata": {},
   "outputs": [],
   "source": [
    "all_colors = [\"tab:blue\", \"tab:orange\", \"tab:green\", \"navy\", \"darkviolet\", \"tab:pink\", \"forestgreen\", \"teal\", \"crimson\", \"olive\", \"springgreen\", \"deepskyblue\"]\n",
    "x_labels = 'labal1 label2 label3'.split()\n",
    "def autolabel(rects):\n",
    "    \"\"\"Attach a text label above each bar in *rects*, displaying its height.\"\"\"\n",
    "    for rect in rects:\n",
    "        height = rect.get_height()\n",
    "        ax.annotate('{:.1f}'.format(height),\n",
    "                    xy=(rect.get_x() + rect.get_width() / 2, height),\n",
    "                    xytext=(0, 3),  # 3 points vertical offset\n",
    "                    textcoords=\"offset points\",\n",
    "                    ha='center', va='bottom', rotation=90)"
   ]
  },
  {
   "cell_type": "code",
   "execution_count": 12,
   "metadata": {},
   "outputs": [],
   "source": [
    "kla_exp = np.array([0.003678, 0.004253])\n",
    "std_exp = np.array([0.00071094, 0.0004539])"
   ]
  },
  {
   "cell_type": "code",
   "execution_count": 13,
   "metadata": {},
   "outputs": [],
   "source": [
    "kla_200 = np.array([0.00178442, 0.00210212, 0.00359585])\n",
    "kla_400 = np.array([0.00239979, 0.00274616, 0.00414216])\n",
    "error_200 = list(map(lambda p: 100*abs(p-kla_exp[0])/kla_exp[0], kla_200))\n",
    "error_400 = list(map(lambda p: 100*abs(p-kla_exp[1])/kla_exp[1], kla_400))"
   ]
  },
  {
   "cell_type": "code",
   "execution_count": null,
   "metadata": {},
   "outputs": [],
   "source": [
    "fig2, ax = plt.subplots(figsize=(9,4), dpi=150)\n",
    "x = np.arange(len(x_labels))\n",
    "width=0.35\n",
    "rect200 = ax.bar(x-width/2, error_200, width, color=all_colors[2], label=r\"$200 ml/min$\")\n",
    "rect400 = ax.bar(x+width/2, error_400, width, color=all_colors[4], label=r\"$400 ml/min$\")\n",
    "\n",
    "ax.set_ylabel('Error (\\%)')\n",
    "ax.set_xticks(x)\n",
    "ax.set_xticklabels(x_labels)\n",
    "ax.grid(color='b', alpha=0.2, linestyle='dashed', linewidth=0.5)\n",
    "ax.legend(frameon=False)\n",
    "autolabel(rect200)\n",
    "autolabel(rect400)\n",
    "\n",
    "fig2.tight_layout()"
   ]
  }
 ],
 "metadata": {
  "kernelspec": {
   "display_name": "Python 3",
   "language": "python",
   "name": "python3"
  },
  "language_info": {
   "codemirror_mode": {
    "name": "ipython",
    "version": 3
   },
   "file_extension": ".py",
   "mimetype": "text/x-python",
   "name": "python",
   "nbconvert_exporter": "python",
   "pygments_lexer": "ipython3",
   "version": "3.7.4"
  }
 },
 "nbformat": 4,
 "nbformat_minor": 4
}
