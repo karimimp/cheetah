{
 "cells": [
  {
   "cell_type": "code",
   "execution_count": 5,
   "metadata": {},
   "outputs": [],
   "source": [
    "from __future__ import division\n",
    "from scipy import linalg as la\n",
    "from scipy import optimize\n",
    "import numpy as np\n",
    "import sympy\n",
    "sympy.init_printing()\n",
    "import matplotlib.pyplot as plt"
   ]
  },
  {
   "cell_type": "markdown",
   "metadata": {},
   "source": [
    "### Definitions\n",
    "\n",
    "An intuitive interpretation of the **condition number** can be obtained from a simple error analysis. Assume that we have a linear equation system on the form  $Ax  =  b$, where  $x$  is the solution vector. Now consider a small variation of  $b$, say  $\\delta b$, which gives a corresponding change in the solution,  $\\delta x$, given by  $A(x+\\delta x) =  b+\\delta b$. Because of linearity of the equation, we have  $A \\delta x  =  \\delta b$. An important question to consider now is: how large is the relative change in  $x$  compared to the relative change in  $b$? Mathematically we can formulate this question in terms of the ratios of the norms of these vectors. Specifically, we are interested in comparing  $\\lVert \\delta x \\rVert / \\lVert x \\rVert$  and $\\lVert \\delta b \\rVert / \\lVert b \\rVert$, where $\\lVert x \\rVert$ denotes the norm of $x$.\n",
    "\n",
    "This means that for linear equation systems characterized by a matrix $A$ that is ill-conditioned, even a small perturbation in the $b$ vector can give large errors in the solution vector $x$.\n",
    "\n",
    "\n",
    "Look at this video for [norms](https://www.youtube.com/watch?v=tXCqr2UsbWQ&ab_channel=JacobBishop) for norm"
   ]
  },
  {
   "cell_type": "code",
   "execution_count": 6,
   "metadata": {},
   "outputs": [],
   "source": [
    "A = sympy.Matrix([[2,3], [5,4]])\n",
    "b = sympy.Matrix([4,3])"
   ]
  },
  {
   "cell_type": "code",
   "execution_count": 7,
   "metadata": {},
   "outputs": [
    {
     "data": {
      "image/png": "[encoded data removed]",
      "text/latex": [
       "$\\displaystyle 2$"
      ],
      "text/plain": [
       "2"
      ]
     },
     "execution_count": 7,
     "metadata": {},
     "output_type": "execute_result"
    }
   ],
   "source": [
    "A.rank()"
   ]
  },
  {
   "cell_type": "code",
   "execution_count": 8,
   "metadata": {},
   "outputs": [
    {
     "data": {
      "image/png": "[encoded data removed]",
      "text/latex": [
       "$\\displaystyle \\frac{\\sqrt{2 \\sqrt{170} + 27}}{\\sqrt{27 - 2 \\sqrt{170}}}$"
      ],
      "text/plain": [
       "  _____________\n",
       "╲╱ 2⋅√170 + 27 \n",
       "───────────────\n",
       "  _____________\n",
       "╲╱ 27 - 2⋅√170 "
      ]
     },
     "execution_count": 8,
     "metadata": {},
     "output_type": "execute_result"
    }
   ],
   "source": [
    "A.condition_number()"
   ]
  },
  {
   "cell_type": "code",
   "execution_count": 10,
   "metadata": {},
   "outputs": [
    {
     "data": {
      "image/png": "[encoded data removed]",
      "text/latex": [
       "$\\displaystyle 7.58240137440151$"
      ],
      "text/plain": [
       "7.58240137440151"
      ]
     },
     "execution_count": 10,
     "metadata": {},
     "output_type": "execute_result"
    }
   ],
   "source": [
    "sympy.N(_)"
   ]
  },
  {
   "cell_type": "code",
   "execution_count": 11,
   "metadata": {},
   "outputs": [
    {
     "data": {
      "image/png": "[encoded data removed]",
      "text/latex": [
       "$\\displaystyle 3 \\sqrt{6}$"
      ],
      "text/plain": [
       "3⋅√6"
      ]
     },
     "execution_count": 11,
     "metadata": {},
     "output_type": "execute_result"
    }
   ],
   "source": [
    "A.norm()"
   ]
  },
  {
   "cell_type": "code",
   "execution_count": 13,
   "metadata": {},
   "outputs": [
    {
     "data": {
      "text/plain": [
       "(2, 7.582401374401514, 7.3484692283495345)"
      ]
     },
     "execution_count": 13,
     "metadata": {},
     "output_type": "execute_result"
    }
   ],
   "source": [
    "# using numpy\n",
    "A = np.array([[2,3], [5,4]])\n",
    "b = np.array([4,3])\n",
    "np.linalg.matrix_rank(A), np.linalg.cond(A), np.linalg.norm(A)"
   ]
  },
  {
   "cell_type": "code",
   "execution_count": null,
   "metadata": {},
   "outputs": [],
   "source": []
  }
 ],
 "metadata": {
  "kernelspec": {
   "display_name": "Python 3",
   "language": "python",
   "name": "python3"
  },
  "language_info": {
   "codemirror_mode": {
    "name": "ipython",
    "version": 3
   },
   "file_extension": ".py",
   "mimetype": "text/x-python",
   "name": "python",
   "nbconvert_exporter": "python",
   "pygments_lexer": "ipython3",
   "version": "3.7.4"
  }
 },
 "nbformat": 4,
 "nbformat_minor": 4
}
