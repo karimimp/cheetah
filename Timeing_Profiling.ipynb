{
 "cells": [
  {
   "cell_type": "code",
   "execution_count": 1,
   "metadata": {},
   "outputs": [],
   "source": [
    "def fib(n):\n",
    "    \"\"\"\n",
    "    Return a list of the first Fibonacci numbers.\n",
    "    \"\"\"\n",
    "    f0, f1 = 0, 1\n",
    "    f = [1]*n\n",
    "    for i in range(1,n):\n",
    "        f[i] = f0+f1\n",
    "        f0, f1 = f1, f[i]\n",
    "    return f"
   ]
  },
  {
   "cell_type": "markdown",
   "metadata": {},
   "source": [
    "The command `%run` can exucute an external Python script within IPython console."
   ]
  },
  {
   "cell_type": "code",
   "execution_count": 2,
   "metadata": {},
   "outputs": [
    {
     "name": "stdout",
     "output_type": "stream",
     "text": [
      "8.65 µs ± 25.5 ns per loop (mean ± std. dev. of 7 runs, 100000 loops each)\n"
     ]
    }
   ],
   "source": [
    "%timeit fib(100)"
   ]
  },
  {
   "cell_type": "code",
   "execution_count": 3,
   "metadata": {},
   "outputs": [
    {
     "name": "stdout",
     "output_type": "stream",
     "text": [
      "CPU times: user 16 µs, sys: 0 ns, total: 16 µs\n",
      "Wall time: 18.4 µs\n"
     ]
    }
   ],
   "source": [
    "retult = %time fib(100)"
   ]
  },
  {
   "cell_type": "markdown",
   "metadata": {},
   "source": [
    "__Note:__ The python profiler is accessible in IPython through the commands `%prun` (for statements) and `%run` with flag `-p` (for running external scripts)."
   ]
  },
  {
   "cell_type": "code",
   "execution_count": 4,
   "metadata": {},
   "outputs": [],
   "source": [
    "import numpy as np\n",
    "def random_walker_max_distance(M,N):\n",
    "    \"\"\"\n",
    "    Simulate N random walkers taking M steps, and return the \n",
    "    largest distance from the starting point acieved by any of the random walkers.\n",
    "    \"\"\"\n",
    "    trajectories = [np.random.randn(M).cumsum() for _ in range(N)]\n",
    "    return np.max(np.abs(trajectories))"
   ]
  },
  {
   "cell_type": "code",
   "execution_count": 5,
   "metadata": {},
   "outputs": [
    {
     "name": "stdout",
     "output_type": "stream",
     "text": [
      " "
     ]
    },
    {
     "data": {
      "text/plain": [
       "         2013 function calls in 0.049 seconds\n",
       "\n",
       "   Ordered by: internal time\n",
       "\n",
       "   ncalls  tottime  percall  cumtime  percall filename:lineno(function)\n",
       "     1000    0.021    0.000    0.021    0.000 {method 'cumsum' of 'numpy.ndarray' objects}\n",
       "     1000    0.019    0.000    0.019    0.000 {method 'randn' of 'numpy.random.mtrand.RandomState' objects}\n",
       "        1    0.006    0.006    0.048    0.048 <ipython-input-4-3a888a959560>:2(random_walker_max_distance)\n",
       "        1    0.001    0.001    0.042    0.042 <ipython-input-4-3a888a959560>:7(<listcomp>)\n",
       "        1    0.001    0.001    0.001    0.001 {method 'reduce' of 'numpy.ufunc' objects}\n",
       "        1    0.001    0.001    0.049    0.049 <string>:1(<module>)\n",
       "        1    0.000    0.000    0.049    0.049 {built-in method builtins.exec}\n",
       "        1    0.000    0.000    0.001    0.001 fromnumeric.py:73(_wrapreduction)\n",
       "        1    0.000    0.000    0.001    0.001 fromnumeric.py:2551(amax)\n",
       "        1    0.000    0.000    0.001    0.001 <__array_function__ internals>:2(amax)\n",
       "        1    0.000    0.000    0.001    0.001 {built-in method numpy.core._multiarray_umath.implement_array_function}\n",
       "        1    0.000    0.000    0.000    0.000 fromnumeric.py:74(<dictcomp>)\n",
       "        1    0.000    0.000    0.000    0.000 fromnumeric.py:2546(_amax_dispatcher)\n",
       "        1    0.000    0.000    0.000    0.000 {method 'disable' of '_lsprof.Profiler' objects}\n",
       "        1    0.000    0.000    0.000    0.000 {method 'items' of 'dict' objects}"
      ]
     },
     "metadata": {},
     "output_type": "display_data"
    }
   ],
   "source": [
    "%prun random_walker_max_distance(400, 1000)"
   ]
  },
  {
   "cell_type": "code",
   "execution_count": null,
   "metadata": {},
   "outputs": [],
   "source": []
  }
 ],
 "metadata": {
  "kernelspec": {
   "display_name": "Python 3",
   "language": "python",
   "name": "python3"
  },
  "language_info": {
   "codemirror_mode": {
    "name": "ipython",
    "version": 3
   },
   "file_extension": ".py",
   "mimetype": "text/x-python",
   "name": "python",
   "nbconvert_exporter": "python",
   "pygments_lexer": "ipython3",
   "version": "3.7.6"
  }
 },
 "nbformat": 4,
 "nbformat_minor": 4
}
